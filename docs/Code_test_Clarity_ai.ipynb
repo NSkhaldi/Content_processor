{
 "cells": [
  {
   "cell_type": "markdown",
   "metadata": {},
   "source": [
    "# Code test Junior Data Operations Engineer  Clarity.ai  (Notebook)"
   ]
  },
  {
   "cell_type": "code",
   "execution_count": 912,
   "metadata": {},
   "outputs": [],
   "source": [
    "import numpy as np\n",
    "import random\n",
    "import time\n",
    "import glob\n",
    "import os\n",
    "import sys\n",
    "import unittest\n",
    "import collections\n",
    "from collections import Counter"
   ]
  },
  {
   "cell_type": "code",
   "execution_count": 856,
   "metadata": {},
   "outputs": [],
   "source": [
    "#%%timeit\n",
    "\n",
    "#every list comprehension can be rewritten in for loop, but every for loop can’t be rewritten in the form of list comprehension.\n",
    "def connected_hostnames(logpath, init_datetime, end_datetime, Hostname):\n",
    "    connected_hosts=[]\n",
    "    \n",
    "    input_log=open(logpath)\n",
    "    for line in input_log:\n",
    "        #Check if within the interval\n",
    "        if (init_datetime<= int(line.split()[0]) <= end_datetime):\n",
    "            #check if the host initialized the connection and append the receiver if true.\n",
    "            if(line.split()[1]==Hostname):\n",
    "                connected_hosts.append(line.split()[2])\n",
    "            #check if the host received the connection and append the initializer if true.\n",
    "            elif (line.split()[2]==Hostname):\n",
    "                connected_hosts.append(line.split()[1])\n",
    "        #Exit early: finish the process if the interval is exceeded         \n",
    "        elif ((int(line.split()[0]) > end_datetime )):\n",
    "                break\n",
    "    input_log.close()\n",
    "    return collections.Counter(connected_hosts)\n",
    "            \n",
    "'''\n",
    "def connected_hostnames_one_liner(filepath, init_datetime, end_datetime, Hostname):\n",
    "    s=[line.split()[2] if (init_datetime <= int(line.split()[0]) <= end_datetime and line.split()[1]==Hostname) else line.split()[1] if (init_datetime<= int(line.split()[0]) <= end_datetime and line.split()[2]==Hostname) else None for line in reversed(list(open(filepath)))]\n",
    "    return list(filter(None, s))\n",
    "'''\n"
   ]
  },
  {
   "cell_type": "code",
   "execution_count": 585,
   "metadata": {
    "scrolled": true
   },
   "outputs": [
    {
     "name": "stdout",
     "output_type": "stream",
     "text": [
      "4.02 ms ± 44.7 µs per loop (mean ± std. dev. of 7 runs, 100 loops each)\n"
     ]
    }
   ],
   "source": [
    "%%timeit\n",
    "connected_hostnames(\"data/input-file.txt\",1565647205599,1565679364288, 'Jadon')"
   ]
  },
  {
   "cell_type": "code",
   "execution_count": 607,
   "metadata": {},
   "outputs": [
    {
     "name": "stdout",
     "output_type": "stream",
     "text": [
      "13.5 ms ± 1.07 ms per loop (mean ± std. dev. of 7 runs, 100 loops each)\n"
     ]
    }
   ],
   "source": [
    "%%timeit\n",
    "connected_hostnames_one_liner(\"data/input-file.txt\",1565647205599,1565679364288, 'Jadon')"
   ]
  },
  {
   "cell_type": "code",
   "execution_count": 913,
   "metadata": {},
   "outputs": [],
   "source": [
    "def connected_to(logpath, init_datetime, end_datetime, Hostname):\n",
    "    hostnames=[]\n",
    "    input_log=open(logpath)\n",
    "    for line in reversed(list(input_log)):\n",
    "        #print(''.join(['parsed line: ',line]))\n",
    "\n",
    "        if (int(line.split()[0]) >= init_datetime and  int(line.split()[0])<= end_datetime and line.split()[2]==Hostname):\n",
    "            #print(''.join(['----> considered line: ',line]))\n",
    "            hostnames.append(line.split()[1])\n",
    "            \n",
    "        if(int(line.split()[0]) < init_datetime ):\n",
    "            break\n",
    "            \n",
    "    #print('------------------ \\n\\n')\n",
    "    input_log.close()\n",
    "    return collections.Counter(hostnames)"
   ]
  },
  {
   "cell_type": "code",
   "execution_count": 901,
   "metadata": {},
   "outputs": [],
   "source": [
    "def received_from(logpath, init_datetime, end_datetime, Hostname):\n",
    "    hostnames=[]\n",
    "    input_log=open(logpath)\n",
    "    for line in reversed(list(input_log)):\n",
    "        #print(''.join(['parsed line: ',line]))\n",
    "\n",
    "\n",
    "        if (int(line.split()[0]) >= init_datetime and  int(line.split()[0])<= end_datetime and line.split()[1]==Hostname):\n",
    "            #print(''.join(['----> considered line: ',line]))\n",
    "            hostnames.append(line.split()[2])\n",
    "            \n",
    "        if(int(line.split()[0]) < init_datetime ):\n",
    "            break\n",
    "    #print('------------------ \\n\\n') \n",
    "    input_log.close()\n",
    "    return collections.Counter(hostnames)"
   ]
  },
  {
   "cell_type": "code",
   "execution_count": 902,
   "metadata": {},
   "outputs": [],
   "source": [
    "def generated_conn(logpath, init_datetime, end_datetime):\n",
    "    hostnames=[]\n",
    "    input_log=open(logpath)\n",
    "    for line in reversed(list(input_log)):\n",
    "        #print(''.join(['parsed line: ',line]))\n",
    "        if (int(line.split()[0]) >= init_datetime and  int(line.split()[0])<= end_datetime ):\n",
    "            #print(''.join(['----> considered line: ',line]))\n",
    "            hostnames.append(line.split()[1])\n",
    "        \n",
    "        if(int(line.split()[0]) < init_datetime ):\n",
    "            break\n",
    "    \n",
    "    #print('------------------ \\n\\n')\n",
    "    input_log.close()\n",
    "    return collections.Counter(hostnames)"
   ]
  },
  {
   "cell_type": "code",
   "execution_count": 889,
   "metadata": {},
   "outputs": [],
   "source": [
    "'''\n",
    "strings in Python are immutable, and the “+” operation involves creating a new string and copying the old content \n",
    "at each step. A more efficient approach would be to use the array module to modify the individual characters and \n",
    "then use the join() function to re-create your final string.\n",
    "'''\n",
    "\n",
    "def process_log_files(Hostname, past_time, log_ofo_time):\n",
    "\n",
    "    \n",
    "    #can achieve the same effect slightly faster by using while 1. This is a single jump operation, as it is a numerical comparison.\n",
    "    while 1: \n",
    "        connected_hosts, received_hosts, active_hosts=Counter(),Counter(),Counter() \n",
    "\n",
    "\n",
    "        \n",
    "        init_datetime=int((time.time()-past_time)*1000)\n",
    "        end_datetime=int(time.time()*1000)\n",
    "        past= time.time() - 5 # 5 seconds\n",
    "        \n",
    "        \n",
    "        past_files=sorted( [ filename for filename in glob.glob(\"output/*.txt\") if os.path.getmtime(filename)>=init_datetime/1000-log_ofo_time ] , key=os.path.getmtime)[::-1]\n",
    "        \n",
    " \n",
    "        for filename in past_files:\n",
    "            connected_hosts+=connected_to(filename,init_datetime,end_datetime,Hostname)\n",
    "            received_hosts+=received_from(filename,init_datetime,end_datetime,Hostname)\n",
    "            active_hosts+=most_generated_conn(filename,init_datetime,end_datetime)\n",
    "        \n",
    "        '''\n",
    "        ## Data transformation for display : \n",
    "            #converting 2d list into 1d , and consider multiple occurences by applying collection \n",
    "        connected_hosts=collections.Counter(sum(connected_hosts,[]))\n",
    "        received_hosts=collections.Counter(sum(received_hosts,[]))\n",
    "            #convert to collection to include other hosts if they have similar occurences as the first one.\n",
    "        active_hosts= collections.Counter(sum(active_hosts,[]))\n",
    "        '''\n",
    "        active_hosts=[h for h in active_hosts.most_common() if h[1]==active_hosts.most_common(1)[0][1]]\n",
    "            \n",
    "        \n",
    "        print(\" \".join(['Hosts that connected to ', Hostname ,'in the last', str(past_time),'s are: ',str(connected_hosts),'\\n']))\n",
    "        print(\" \".join(['Hosts that received connection from', Hostname ,'in the last', str(past_time),'s are: ',str(received_hosts),'\\n']))\n",
    "        print(\" \".join(['the hostname that generated most connections in the last', str(past_time),'s is: ',  str(active_hosts),'\\n']))\n",
    "        \n",
    "        print('--------------------------------\\n\\n')\n",
    "        \n",
    "        print(''.join(['It is :  ', time.strftime('%X %x'),'.  the next output is in ', str(past_time), ' s. \\n']))\n",
    "        time.sleep(past_time)\n",
    "        \n",
    "    \n",
    "        "
   ]
  },
  {
   "cell_type": "code",
   "execution_count": 918,
   "metadata": {},
   "outputs": [
    {
     "name": "stdout",
     "output_type": "stream",
     "text": [
      "Hosts that connected to  Hannibal in the last 5000 s are:  Counter({'Hannibal': 157, 'Steeve': 154, 'Hanny': 151}) \n",
      "\n",
      "Hosts that received connection from Hannibal in the last 5000 s are:  Counter({'Hanny': 159, 'Hannibal': 157, 'Steeve': 135}) \n",
      "\n",
      "the hostname that generated most connections in the last 5000 s is:  [('Steeve', 475)] \n",
      "\n",
      "--------------------------------\n",
      "\n",
      "\n",
      "It is :  14:17:53 12/14/20.  the next output is in 5000 s. \n",
      "\n"
     ]
    },
    {
     "ename": "KeyboardInterrupt",
     "evalue": "",
     "output_type": "error",
     "traceback": [
      "\u001b[0;31m---------------------------------------------------------------------------\u001b[0m",
      "\u001b[0;31mKeyboardInterrupt\u001b[0m                         Traceback (most recent call last)",
      "\u001b[0;32m<ipython-input-918-4df0324143a0>\u001b[0m in \u001b[0;36m<module>\u001b[0;34m\u001b[0m\n\u001b[0;32m----> 1\u001b[0;31m \u001b[0mprocess_log_files\u001b[0m\u001b[0;34m(\u001b[0m\u001b[0;34m'Hannibal'\u001b[0m\u001b[0;34m,\u001b[0m \u001b[0;36m5000\u001b[0m \u001b[0;34m,\u001b[0m \u001b[0;36m0\u001b[0m \u001b[0;34m)\u001b[0m\u001b[0;34m\u001b[0m\u001b[0;34m\u001b[0m\u001b[0m\n\u001b[0m",
      "\u001b[0;32m<ipython-input-889-b62a41481b28>\u001b[0m in \u001b[0;36mprocess_log_files\u001b[0;34m(Hostname, past_time, log_ofo_time)\u001b[0m\n\u001b[1;32m     45\u001b[0m \u001b[0;34m\u001b[0m\u001b[0m\n\u001b[1;32m     46\u001b[0m         \u001b[0mprint\u001b[0m\u001b[0;34m(\u001b[0m\u001b[0;34m''\u001b[0m\u001b[0;34m.\u001b[0m\u001b[0mjoin\u001b[0m\u001b[0;34m(\u001b[0m\u001b[0;34m[\u001b[0m\u001b[0;34m'It is :  '\u001b[0m\u001b[0;34m,\u001b[0m \u001b[0mtime\u001b[0m\u001b[0;34m.\u001b[0m\u001b[0mstrftime\u001b[0m\u001b[0;34m(\u001b[0m\u001b[0;34m'%X %x'\u001b[0m\u001b[0;34m)\u001b[0m\u001b[0;34m,\u001b[0m\u001b[0;34m'.  the next output is in '\u001b[0m\u001b[0;34m,\u001b[0m \u001b[0mstr\u001b[0m\u001b[0;34m(\u001b[0m\u001b[0mpast_time\u001b[0m\u001b[0;34m)\u001b[0m\u001b[0;34m,\u001b[0m \u001b[0;34m' s. \\n'\u001b[0m\u001b[0;34m]\u001b[0m\u001b[0;34m)\u001b[0m\u001b[0;34m)\u001b[0m\u001b[0;34m\u001b[0m\u001b[0;34m\u001b[0m\u001b[0m\n\u001b[0;32m---> 47\u001b[0;31m         \u001b[0mtime\u001b[0m\u001b[0;34m.\u001b[0m\u001b[0msleep\u001b[0m\u001b[0;34m(\u001b[0m\u001b[0mpast_time\u001b[0m\u001b[0;34m)\u001b[0m\u001b[0;34m\u001b[0m\u001b[0;34m\u001b[0m\u001b[0m\n\u001b[0m\u001b[1;32m     48\u001b[0m \u001b[0;34m\u001b[0m\u001b[0m\n\u001b[1;32m     49\u001b[0m \u001b[0;34m\u001b[0m\u001b[0m\n",
      "\u001b[0;31mKeyboardInterrupt\u001b[0m: "
     ]
    }
   ],
   "source": [
    "process_log_files('Hannibal', 5000 , 0 )"
   ]
  },
  {
   "cell_type": "code",
   "execution_count": 916,
   "metadata": {
    "scrolled": true
   },
   "outputs": [
    {
     "name": "stderr",
     "output_type": "stream",
     "text": [
      ".......\n",
      "----------------------------------------------------------------------\n",
      "Ran 7 tests in 0.136s\n",
      "\n",
      "OK\n"
     ]
    }
   ],
   "source": [
    "class NamesTestCase(unittest.TestCase):\n",
    "        \n",
    "# Test connected_hostnames() on short and long files\n",
    "    def test_connected_hostnames_sf(self):\n",
    "        result = connected_hostnames(\"data/input_test_case_1.txt\",1607880434801,1607880438820, 'Steeve')\n",
    "        self.assertEqual(result, {'Hanny': 1, 'Hannibal': 2})\n",
    "        \n",
    "    def test_connected_hostnames_lf(self):\n",
    "        result = connected_hostnames(\"data/input-file.txt\",1565647204351,1565733598341, 'Dristen')\n",
    "        self.assertEqual(result, {'Aadison': 1, 'Wilkens': 1, 'Kahlina': 1, 'Alei': 1, 'Zhanasia': 1, 'Jamor': 1, 'Joy': 1})\n",
    "\n",
    "\n",
    "# Test connected_to() on short and long files\n",
    "    def test_connect_to_sf(self):\n",
    "        result = connected_to(\"data/input_test_case_1.txt\",1607880434801,1607880438820, 'Steeve')\n",
    "        self.assertEqual(result, {'Hannibal': 1})\n",
    "\n",
    "    def test_connect_to_lf(self):\n",
    "        result = connected_to(\"data/input-file.txt\",1565647204351,1565733598341, 'Jadon')\n",
    "        self.assertEqual(result, {'Ahmya': 1, 'Kayleann': 1, 'Shainah': 1, 'Aniyah': 1, 'Eveleigh': 1, 'Caris': 1, 'Rahniya': 1, 'Remiel': 1})\n",
    "\n",
    "\n",
    "# Test received_from() on short and long files   \n",
    "    def test_received_from_sf(self):\n",
    "        result = received_from(\"data/input_test_case_1.txt\",1607880434801,1607880438820, 'Steeve')\n",
    "        self.assertEqual(result, {'Hannibal': 1, 'Hanny': 1})\n",
    "\n",
    "    def test_received_from_lf(self):\n",
    "        result = received_from(\"data/input-file.txt\",1565647204351,1565733598341, 'Dristen')\n",
    "        self.assertEqual(result, {'Joy': 1, 'Jamor': 1, 'Zhanasia': 1, 'Alei': 1, 'Kahlina': 1, 'Wilkens': 1, 'Aadison': 1})\n",
    "\n",
    "# Test generated_conn\n",
    "    def test_generated_conn(self):\n",
    "        result = generated_conn(\"data/input_test_case_1.txt\",1607880434801,1607880438820)\n",
    "        self.assertEqual(result, {'Hannibal': 3, 'Steeve': 2, 'Hanny': 1})\n",
    "\n",
    "if __name__ == '__main__':\n",
    "    unittest.main(argv=['first-arg-is-ignored'], exit=False)\n"
   ]
  },
  {
   "cell_type": "code",
   "execution_count": 872,
   "metadata": {},
   "outputs": [
    {
     "data": {
      "text/plain": [
       "Counter({'Hanny': 1, 'Hannibal': 2})"
      ]
     },
     "execution_count": 872,
     "metadata": {},
     "output_type": "execute_result"
    }
   ],
   "source": [
    "connected_hostnames(\"data/input_test_case_1.txt\",1607880434801,1607880438820, 'Steeve')"
   ]
  },
  {
   "cell_type": "code",
   "execution_count": 897,
   "metadata": {},
   "outputs": [
    {
     "data": {
      "text/plain": [
       "Counter({'Aadison': 1,\n",
       "         'Wilkens': 1,\n",
       "         'Kahlina': 1,\n",
       "         'Alei': 1,\n",
       "         'Zhanasia': 1,\n",
       "         'Jamor': 1,\n",
       "         'Joy': 1})"
      ]
     },
     "execution_count": 897,
     "metadata": {},
     "output_type": "execute_result"
    }
   ],
   "source": [
    "connected_hostnames(\"data/input-file.txt\",1565647204351,1565733598341, 'Dristen')"
   ]
  },
  {
   "cell_type": "code",
   "execution_count": 861,
   "metadata": {},
   "outputs": [
    {
     "data": {
      "text/plain": [
       "Counter({'Hannibal': 1})"
      ]
     },
     "execution_count": 861,
     "metadata": {},
     "output_type": "execute_result"
    }
   ],
   "source": [
    "connected_to(\"data/input_test_case_1.txt\",1607880434801,1607880438820, 'Steeve')"
   ]
  },
  {
   "cell_type": "code",
   "execution_count": 904,
   "metadata": {},
   "outputs": [
    {
     "data": {
      "text/plain": [
       "Counter({'Ahmya': 1,\n",
       "         'Kayleann': 1,\n",
       "         'Shainah': 1,\n",
       "         'Aniyah': 1,\n",
       "         'Eveleigh': 1,\n",
       "         'Caris': 1,\n",
       "         'Rahniya': 1,\n",
       "         'Remiel': 1})"
      ]
     },
     "execution_count": 904,
     "metadata": {},
     "output_type": "execute_result"
    }
   ],
   "source": [
    "connected_to(\"data/input-file.txt\",1565647204351,1565733598341, 'Jadon')"
   ]
  },
  {
   "cell_type": "code",
   "execution_count": 905,
   "metadata": {},
   "outputs": [
    {
     "data": {
      "text/plain": [
       "Counter({'Hannibal': 1, 'Hanny': 1})"
      ]
     },
     "execution_count": 905,
     "metadata": {},
     "output_type": "execute_result"
    }
   ],
   "source": [
    "received_from(\"data/input_test_case_1.txt\",1607880434801,1607880438820, 'Steeve')"
   ]
  },
  {
   "cell_type": "code",
   "execution_count": 903,
   "metadata": {},
   "outputs": [
    {
     "data": {
      "text/plain": [
       "Counter({'Joy': 1,\n",
       "         'Jamor': 1,\n",
       "         'Zhanasia': 1,\n",
       "         'Alei': 1,\n",
       "         'Kahlina': 1,\n",
       "         'Wilkens': 1,\n",
       "         'Aadison': 1})"
      ]
     },
     "execution_count": 903,
     "metadata": {},
     "output_type": "execute_result"
    }
   ],
   "source": [
    "received_from(\"data/input-file.txt\",1565647204351,1565733598341, 'Dristen')"
   ]
  },
  {
   "cell_type": "code",
   "execution_count": 892,
   "metadata": {},
   "outputs": [
    {
     "data": {
      "text/plain": [
       "Counter({'Hannibal': 3, 'Steeve': 2, 'Hanny': 1})"
      ]
     },
     "execution_count": 892,
     "metadata": {},
     "output_type": "execute_result"
    }
   ],
   "source": [
    "generated_conn(\"data/input_test_case_1.txt\",1607880434801,1607880438820)"
   ]
  },
  {
   "cell_type": "code",
   "execution_count": 895,
   "metadata": {},
   "outputs": [
    {
     "data": {
      "text/plain": [
       "[('Dristen', 7)]"
      ]
     },
     "execution_count": 895,
     "metadata": {},
     "output_type": "execute_result"
    }
   ],
   "source": [
    "most_generated_conn(\"data/input-file.txt\",1565647204351,1565733598341).most_common(1)"
   ]
  },
  {
   "cell_type": "code",
   "execution_count": null,
   "metadata": {},
   "outputs": [],
   "source": []
  },
  {
   "cell_type": "code",
   "execution_count": null,
   "metadata": {},
   "outputs": [],
   "source": []
  },
  {
   "cell_type": "code",
   "execution_count": null,
   "metadata": {},
   "outputs": [],
   "source": []
  },
  {
   "cell_type": "code",
   "execution_count": null,
   "metadata": {},
   "outputs": [],
   "source": []
  },
  {
   "cell_type": "code",
   "execution_count": null,
   "metadata": {},
   "outputs": [],
   "source": []
  },
  {
   "cell_type": "code",
   "execution_count": null,
   "metadata": {},
   "outputs": [],
   "source": []
  },
  {
   "cell_type": "code",
   "execution_count": 915,
   "metadata": {},
   "outputs": [
    {
     "name": "stderr",
     "output_type": "stream",
     "text": [
      "14:17:24: Main    : create and start thread 0.\n",
      "14:17:24: Thread 0: starting\n",
      "14:17:24: Main    : create and start thread 1.\n",
      "14:17:24: Thread 1: starting\n",
      "14:17:24: Main    : create and start thread 2.\n",
      "14:17:24: Thread 2: starting\n",
      "14:17:24: Main    : before joining thread 0.\n",
      "14:17:26: Thread 0: finishing\n",
      "14:17:26: Thread 1: finishing\n",
      "14:17:26: Main    : thread 0 done\n",
      "14:17:26: Main    : before joining thread 1.\n",
      "14:17:26: Thread 2: finishing\n",
      "14:17:26: Main    : thread 1 done\n",
      "14:17:26: Main    : before joining thread 2.\n",
      "14:17:26: Main    : thread 2 done\n"
     ]
    }
   ],
   "source": [
    "\n",
    "import logging\n",
    "import threading\n",
    "import time\n",
    "\n",
    "def thread_function(name):\n",
    "    logging.info(\"Thread %s: starting\", name)\n",
    "    time.sleep(2)\n",
    "    logging.info(\"Thread %s: finishing\", name)\n",
    "\n",
    "if __name__ == \"__main__\":\n",
    "    format = \"%(asctime)s: %(message)s\"\n",
    "    logging.basicConfig(format=format, level=logging.INFO,\n",
    "                        datefmt=\"%H:%M:%S\")\n",
    "\n",
    "    threads = list()\n",
    "    for index in range(3):\n",
    "        logging.info(\"Main    : create and start thread %d.\", index)\n",
    "        x = threading.Thread(target=thread_function, args=(index,))\n",
    "        threads.append(x)\n",
    "        x.start()\n",
    "\n",
    "    for index, thread in enumerate(threads):\n",
    "        logging.info(\"Main    : before joining thread %d.\", index)\n",
    "        thread.join()\n",
    "        logging.info(\"Main    : thread %d done\", index)"
   ]
  },
  {
   "cell_type": "code",
   "execution_count": null,
   "metadata": {},
   "outputs": [],
   "source": []
  },
  {
   "cell_type": "code",
   "execution_count": null,
   "metadata": {},
   "outputs": [],
   "source": []
  },
  {
   "cell_type": "code",
   "execution_count": null,
   "metadata": {},
   "outputs": [],
   "source": []
  }
 ],
 "metadata": {
  "kernelspec": {
   "display_name": "Python 3",
   "language": "python",
   "name": "python3"
  },
  "language_info": {
   "codemirror_mode": {
    "name": "ipython",
    "version": 3
   },
   "file_extension": ".py",
   "mimetype": "text/x-python",
   "name": "python",
   "nbconvert_exporter": "python",
   "pygments_lexer": "ipython3",
   "version": "3.8.3"
  }
 },
 "nbformat": 4,
 "nbformat_minor": 4
}
