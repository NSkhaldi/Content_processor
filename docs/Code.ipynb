{
 "cells": [
  {
   "cell_type": "markdown",
   "metadata": {},
   "source": [
    "#  Notebook"
   ]
  },
  {
   "cell_type": "code",
   "execution_count": 1,
   "metadata": {},
   "outputs": [],
   "source": [
    "import numpy as np\n",
    "import random\n",
    "import time\n",
    "import glob\n",
    "import os\n",
    "import sys\n",
    "import unittest\n",
    "import collections\n",
    "from collections import Counter\n",
    "\n",
    "\n",
    "\n",
    "\n",
    "import dash\n",
    "from dash.dependencies import Output, Input\n",
    "import dash_core_components as dcc\n",
    "import dash_html_components as html\n",
    "import plotly.graph_objs as go\n",
    "import plotly.express as px\n",
    "from plotly.subplots import make_subplots"
   ]
  },
  {
   "cell_type": "code",
   "execution_count": null,
   "metadata": {},
   "outputs": [],
   "source": [
    "#%%timeit\n",
    "\n",
    "#every list comprehension can be rewritten in for loop, but every for loop can’t be rewritten in the form of list comprehension.\n",
    "def connected_hostnames(logpath, init_datetime, end_datetime, Hostname):\n",
    "    connected_hosts=[]\n",
    "    \n",
    "    input_log=open(logpath)\n",
    "    for line in input_log:\n",
    "        #Check if within the interval\n",
    "        if (init_datetime<= int(line.split()[0]) <= end_datetime):\n",
    "            #check if the host initialized the connection and append the receiver if true.\n",
    "            if(line.split()[1]==Hostname):\n",
    "                connected_hosts.append(line.split()[2])\n",
    "            #check if the host received the connection and append the initializer if true.\n",
    "            elif (line.split()[2]==Hostname):\n",
    "                connected_hosts.append(line.split()[1])\n",
    "        #Exit early: finish the process if the interval is exceeded         \n",
    "        elif ((int(line.split()[0]) > end_datetime )):\n",
    "                break\n",
    "    input_log.close()\n",
    "    return collections.Counter(connected_hosts)\n",
    "            \n",
    "'''\n",
    "def connected_hostnames_one_liner(filepath, init_datetime, end_datetime, Hostname):\n",
    "    s=[line.split()[2] if (init_datetime <= int(line.split()[0]) <= end_datetime and line.split()[1]==Hostname) else line.split()[1] if (init_datetime<= int(line.split()[0]) <= end_datetime and line.split()[2]==Hostname) else None for line in reversed(list(open(filepath)))]\n",
    "    return list(filter(None, s))\n",
    "'''\n"
   ]
  },
  {
   "cell_type": "code",
   "execution_count": null,
   "metadata": {
    "scrolled": true
   },
   "outputs": [],
   "source": [
    "%%timeit\n",
    "connected_hostnames(\"data/input-file.txt\",1565647205599,1565679364288, 'Jadon')"
   ]
  },
  {
   "cell_type": "code",
   "execution_count": null,
   "metadata": {},
   "outputs": [],
   "source": [
    "%%timeit\n",
    "connected_hostnames_one_liner(\"data/input-file.txt\",1565647205599,1565679364288, 'Jadon')"
   ]
  },
  {
   "cell_type": "code",
   "execution_count": 2,
   "metadata": {},
   "outputs": [],
   "source": [
    "def connected_to(logpath, init_datetime, end_datetime, Hostname):\n",
    "    hostnames=[]\n",
    "    input_log=open(logpath)\n",
    "    for line in reversed(list(input_log)):\n",
    "        #print(''.join(['parsed line: ',line]))\n",
    "\n",
    "        if (int(line.split()[0]) >= init_datetime and  int(line.split()[0])<= end_datetime and line.split()[2]==Hostname):\n",
    "            #print(''.join(['----> considered line: ',line]))\n",
    "            hostnames.append(line.split()[1])\n",
    "            \n",
    "        if(int(line.split()[0]) < init_datetime ):\n",
    "            break\n",
    "            \n",
    "    #print('------------------ \\n\\n')\n",
    "    input_log.close()\n",
    "    return collections.Counter(hostnames)"
   ]
  },
  {
   "cell_type": "code",
   "execution_count": 3,
   "metadata": {},
   "outputs": [],
   "source": [
    "def received_from(logpath, init_datetime, end_datetime, Hostname):\n",
    "    hostnames=[]\n",
    "    input_log=open(logpath)\n",
    "    for line in reversed(list(input_log)):\n",
    "        #print(''.join(['parsed line: ',line]))\n",
    "\n",
    "\n",
    "        if (int(line.split()[0]) >= init_datetime and  int(line.split()[0])<= end_datetime and line.split()[1]==Hostname):\n",
    "            #print(''.join(['----> considered line: ',line]))\n",
    "            hostnames.append(line.split()[2])\n",
    "            \n",
    "        if(int(line.split()[0]) < init_datetime ):\n",
    "            break\n",
    "    #print('------------------ \\n\\n') \n",
    "    input_log.close()\n",
    "    return collections.Counter(hostnames)"
   ]
  },
  {
   "cell_type": "code",
   "execution_count": 4,
   "metadata": {},
   "outputs": [],
   "source": [
    "def generated_conn(logpath, init_datetime, end_datetime):\n",
    "    hostnames=[]\n",
    "    input_log=open(logpath)\n",
    "    for line in reversed(list(input_log)):\n",
    "        #print(''.join(['parsed line: ',line]))\n",
    "        if (int(line.split()[0]) >= init_datetime and  int(line.split()[0])<= end_datetime ):\n",
    "            #print(''.join(['----> considered line: ',line]))\n",
    "            hostnames.append(line.split()[1])\n",
    "        \n",
    "        if(int(line.split()[0]) < init_datetime ):\n",
    "            break\n",
    "    \n",
    "    #print('------------------ \\n\\n')\n",
    "    input_log.close()\n",
    "    return collections.Counter(hostnames)"
   ]
  },
  {
   "cell_type": "code",
   "execution_count": null,
   "metadata": {},
   "outputs": [],
   "source": []
  },
  {
   "cell_type": "code",
   "execution_count": null,
   "metadata": {},
   "outputs": [],
   "source": [
    "'''\n",
    "strings in Python are immutable, and the “+” operation involves creating a new string and copying the old content \n",
    "at each step. A more efficient approach would be to use the array module to modify the individual characters and \n",
    "then use the join() function to re-create your final string.\n",
    "'''\n",
    "\n",
    "def process_log_files(Hostname, past_time, log_ofo_time):\n",
    "\n",
    "    \n",
    "    #can achieve the same effect slightly faster by using while 1. This is a single jump operation, as it is a numerical comparison.\n",
    "    while 1: \n",
    "        connected_hosts, received_hosts, active_hosts=Counter(),Counter(),Counter() \n",
    "\n",
    "\n",
    "        \n",
    "        init_datetime=int((time.time()-past_time)*1000)\n",
    "        end_datetime=int(time.time()*1000)\n",
    "        past= time.time() - 5 # 5 seconds\n",
    "        \n",
    "        \n",
    "        past_files=sorted( [ filename for filename in glob.glob(\"output/*.txt\") if os.path.getmtime(filename)>=init_datetime/1000-log_ofo_time ] , key=os.path.getmtime)[::-1]\n",
    "        \n",
    " \n",
    "        for filename in past_files:\n",
    "            connected_hosts+=connected_to(filename,init_datetime,end_datetime,Hostname)\n",
    "            received_hosts+=received_from(filename,init_datetime,end_datetime,Hostname)\n",
    "            active_hosts+=most_generated_conn(filename,init_datetime,end_datetime)\n",
    "        \n",
    "        '''\n",
    "        ## Data transformation for display : \n",
    "            #converting 2d list into 1d , and consider multiple occurences by applying collection \n",
    "        connected_hosts=collections.Counter(sum(connected_hosts,[]))\n",
    "        received_hosts=collections.Counter(sum(received_hosts,[]))\n",
    "            #convert to collection to include other hosts if they have similar occurences as the first one.\n",
    "        active_hosts= collections.Counter(sum(active_hosts,[]))\n",
    "        '''\n",
    "        active_hosts=[h for h in active_hosts.most_common() if h[1]==active_hosts.most_common(1)[0][1]]\n",
    "            \n",
    "        \n",
    "        print(\" \".join(['Hosts that connected to ', Hostname ,'in the last', str(past_time),'s are: ',str(connected_hosts),'\\n']))\n",
    "        print(\" \".join(['Hosts that received connection from', Hostname ,'in the last', str(past_time),'s are: ',str(received_hosts),'\\n']))\n",
    "        print(\" \".join(['the hostname that generated most connections in the last', str(past_time),'s is: ',  str(active_hosts),'\\n']))\n",
    "        \n",
    "        print('--------------------------------\\n\\n')\n",
    "        \n",
    "        print(''.join(['It is :  ', time.strftime('%X %x'),'.  the next output is in ', str(past_time), ' s. \\n']))\n",
    "        time.sleep(past_time)\n",
    "        \n",
    "    \n",
    "        "
   ]
  },
  {
   "cell_type": "code",
   "execution_count": null,
   "metadata": {},
   "outputs": [],
   "source": [
    "process_log_files('Hannibal', 5000 , 0 )"
   ]
  },
  {
   "cell_type": "code",
   "execution_count": null,
   "metadata": {},
   "outputs": [],
   "source": []
  },
  {
   "cell_type": "code",
   "execution_count": null,
   "metadata": {
    "scrolled": true
   },
   "outputs": [],
   "source": [
    "class NamesTestCase(unittest.TestCase):\n",
    "        \n",
    "# Test connected_hostnames() on short and long files\n",
    "    def test_connected_hostnames_sf(self):\n",
    "        result = connected_hostnames(\"data/input_test_case_1.txt\",1607880434801,1607880438820, 'Steeve')\n",
    "        self.assertEqual(result, {'Hanny': 1, 'Hannibal': 2})\n",
    "        \n",
    "    def test_connected_hostnames_lf(self):\n",
    "        result = connected_hostnames(\"data/input-file.txt\",1565647204351,1565733598341, 'Dristen')\n",
    "        self.assertEqual(result, {'Aadison': 1, 'Wilkens': 1, 'Kahlina': 1, 'Alei': 1, 'Zhanasia': 1, 'Jamor': 1, 'Joy': 1})\n",
    "\n",
    "\n",
    "# Test connected_to() on short and long files\n",
    "    def test_connect_to_sf(self):\n",
    "        result = connected_to(\"data/input_test_case_1.txt\",1607880434801,1607880438820, 'Steeve')\n",
    "        self.assertEqual(result, {'Hannibal': 1})\n",
    "\n",
    "    def test_connect_to_lf(self):\n",
    "        result = connected_to(\"data/input-file.txt\",1565647204351,1565733598341, 'Jadon')\n",
    "        self.assertEqual(result, {'Ahmya': 1, 'Kayleann': 1, 'Shainah': 1, 'Aniyah': 1, 'Eveleigh': 1, 'Caris': 1, 'Rahniya': 1, 'Remiel': 1})\n",
    "\n",
    "\n",
    "# Test received_from() on short and long files   \n",
    "    def test_received_from_sf(self):\n",
    "        result = received_from(\"data/input_test_case_1.txt\",1607880434801,1607880438820, 'Steeve')\n",
    "        self.assertEqual(result, {'Hannibal': 1, 'Hanny': 1})\n",
    "\n",
    "    def test_received_from_lf(self):\n",
    "        result = received_from(\"data/input-file.txt\",1565647204351,1565733598341, 'Dristen')\n",
    "        self.assertEqual(result, {'Joy': 1, 'Jamor': 1, 'Zhanasia': 1, 'Alei': 1, 'Kahlina': 1, 'Wilkens': 1, 'Aadison': 1})\n",
    "\n",
    "# Test generated_conn\n",
    "    def test_generated_conn(self):\n",
    "        result = generated_conn(\"data/input_test_case_1.txt\",1607880434801,1607880438820)\n",
    "        self.assertEqual(result, {'Hannibal': 3, 'Steeve': 2, 'Hanny': 1})\n",
    "\n",
    "if __name__ == '__main__':\n",
    "    unittest.main(argv=['first-arg-is-ignored'], exit=False)\n"
   ]
  },
  {
   "cell_type": "code",
   "execution_count": null,
   "metadata": {},
   "outputs": [],
   "source": [
    "connected_hostnames(\"data/input_test_case_1.txt\",1607880434801,1607880438820, 'Steeve')"
   ]
  },
  {
   "cell_type": "code",
   "execution_count": null,
   "metadata": {},
   "outputs": [],
   "source": [
    "connected_hostnames(\"data/input-file.txt\",1565647204351,1565733598341, 'Dristen')"
   ]
  },
  {
   "cell_type": "code",
   "execution_count": null,
   "metadata": {},
   "outputs": [],
   "source": [
    "connected_to(\"../data/input_test_case_1.txt\",1607880434801,1607880438820, 'Steeve')"
   ]
  },
  {
   "cell_type": "code",
   "execution_count": null,
   "metadata": {},
   "outputs": [],
   "source": [
    "s=connected_to(\"../data/input-file.txt\",1565647204351,1565733598341, 'Jadon')"
   ]
  },
  {
   "cell_type": "code",
   "execution_count": null,
   "metadata": {},
   "outputs": [],
   "source": [
    "s.values()"
   ]
  },
  {
   "cell_type": "code",
   "execution_count": null,
   "metadata": {},
   "outputs": [],
   "source": [
    "received_from(\"data/input_test_case_1.txt\",1607880434801,1607880438820, 'Steeve')"
   ]
  },
  {
   "cell_type": "code",
   "execution_count": null,
   "metadata": {},
   "outputs": [],
   "source": [
    "received_from(\"data/input-file.txt\",1565647204351,1565733598341, 'Dristen')"
   ]
  },
  {
   "cell_type": "code",
   "execution_count": null,
   "metadata": {},
   "outputs": [],
   "source": [
    "generated_conn(\"data/input_test_case_1.txt\",1607880434801,1607880438820)"
   ]
  },
  {
   "cell_type": "code",
   "execution_count": null,
   "metadata": {},
   "outputs": [],
   "source": [
    "most_generated_conn(\"data/input-file.txt\",1565647204351,1565733598341).most_common(1)"
   ]
  },
  {
   "cell_type": "code",
   "execution_count": null,
   "metadata": {},
   "outputs": [],
   "source": []
  },
  {
   "cell_type": "code",
   "execution_count": null,
   "metadata": {},
   "outputs": [],
   "source": []
  },
  {
   "cell_type": "code",
   "execution_count": null,
   "metadata": {},
   "outputs": [],
   "source": []
  },
  {
   "cell_type": "code",
   "execution_count": null,
   "metadata": {},
   "outputs": [],
   "source": []
  },
  {
   "cell_type": "code",
   "execution_count": null,
   "metadata": {},
   "outputs": [],
   "source": []
  },
  {
   "cell_type": "code",
   "execution_count": null,
   "metadata": {},
   "outputs": [],
   "source": []
  },
  {
   "cell_type": "code",
   "execution_count": null,
   "metadata": {},
   "outputs": [],
   "source": [
    "\n",
    "import logging\n",
    "import threading\n",
    "import time\n",
    "\n",
    "def thread_function(name):\n",
    "    logging.info(\"Thread %s: starting\", name)\n",
    "    time.sleep(2)\n",
    "    logging.info(\"Thread %s: finishing\", name)\n",
    "\n",
    "if __name__ == \"__main__\":\n",
    "    format = \"%(asctime)s: %(message)s\"\n",
    "    logging.basicConfig(format=format, level=logging.INFO,\n",
    "                        datefmt=\"%H:%M:%S\")\n",
    "\n",
    "    threads = list()\n",
    "    for index in range(3):\n",
    "        logging.info(\"Main    : create and start thread %d.\", index)\n",
    "        x = threading.Thread(target=thread_function, args=(index,))\n",
    "        threads.append(x)\n",
    "        x.start()\n",
    "\n",
    "    for index, thread in enumerate(threads):\n",
    "        logging.info(\"Main    : before joining thread %d.\", index)\n",
    "        thread.join()\n",
    "        logging.info(\"Main    : thread %d done\", index)"
   ]
  },
  {
   "cell_type": "code",
   "execution_count": null,
   "metadata": {},
   "outputs": [],
   "source": []
  },
  {
   "cell_type": "code",
   "execution_count": null,
   "metadata": {},
   "outputs": [],
   "source": []
  },
  {
   "cell_type": "code",
   "execution_count": null,
   "metadata": {},
   "outputs": [],
   "source": [
    "def generated_conn_dash(logpath, init_datetime, end_datetime):\n",
    "    hostnames=[]\n",
    "    input_log=open(logpath)\n",
    "    for line in reversed(list(input_log)):\n",
    "        #print(''.join(['parsed line: ',line]))\n",
    "        if (int(line.split()[0]) >= init_datetime and  int(line.split()[0])<= end_datetime ):\n",
    "            #print(''.join(['----> considered line: ',line]))\n",
    "            hostnames.append(line.split()[1])\n",
    "        \n",
    "        if(int(line.split()[0]) < init_datetime ):\n",
    "            break\n",
    "    \n",
    "    #print('------------------ \\n\\n')\n",
    "    input_log.close()\n",
    "    return hostnames"
   ]
  },
  {
   "cell_type": "code",
   "execution_count": 2,
   "metadata": {},
   "outputs": [
    {
     "ename": "SyntaxError",
     "evalue": "invalid syntax (<ipython-input-2-3d6b79c71c23>, line 2)",
     "output_type": "error",
     "traceback": [
      "\u001b[0;36m  File \u001b[0;32m\"<ipython-input-2-3d6b79c71c23>\"\u001b[0;36m, line \u001b[0;32m2\u001b[0m\n\u001b[0;31m    def __init__:\u001b[0m\n\u001b[0m                ^\u001b[0m\n\u001b[0;31mSyntaxError\u001b[0m\u001b[0;31m:\u001b[0m invalid syntax\n"
     ]
    }
   ],
   "source": [
    "\n",
    "class Dashboard:\n",
    "    def __init__:\n",
    "        \n",
    "external_stylesheets = ['https://codepen.io/chriddyp/pen/bWLwgP.css']\n",
    "\n",
    "app = dash.Dash(__name__, external_stylesheets=external_stylesheets)\n",
    "\n",
    "colors = {\n",
    "    'background': '#111111',\n",
    "    'text': '#7FDBFF'\n",
    "}\n",
    "\n",
    "\n",
    "\n",
    "app.layout = html.Div(style={'backgroundColor': colors['background']}, children=[\n",
    "    html.H1(\n",
    "        children='Network log analytics',\n",
    "        style={\n",
    "            'textAlign': 'center',\n",
    "            'color': colors['text']\n",
    "        }\n",
    "    ),\n",
    "    \n",
    "\n",
    "    \n",
    "    html.Div(\n",
    "        [\n",
    "            html.Div(\n",
    "                [\n",
    "                    html.H2(\"\"\"Select a host:\"\"\",\n",
    "                            style={'margin-right': '1em', 'color': colors['text']})\n",
    "                ],\n",
    "            ),\n",
    "\n",
    "        dcc.Dropdown(\n",
    "            id='hosts_dropdown',\n",
    "            options=[\n",
    "            {'label': 'Hannibal', 'value': 'Hannibal'},\n",
    "            {'label': 'Hanny', 'value': 'Hanny'},\n",
    "            {'label': 'Steeve', 'value': 'Steeve'}\n",
    "            ],\n",
    "            placeholder=\"Default value 'Hannibal'\",\n",
    "            value=\"Hannibal\",\n",
    "            style=dict(width='40%',display='inline-block')\n",
    "                    )\n",
    "        ],\n",
    "            style={'display': 'flex', 'align-items': 'center'}\n",
    "            ),\n",
    "\n",
    "    dcc.Graph(id='live-graphs_host'),\n",
    "    dcc.Interval(id='graph-update', interval=0.5*10000)\n",
    "])\n",
    "\n",
    "\n",
    "#global connected_hosts, received_hosts, active_hosts\n",
    "\n",
    "\n",
    "\n",
    "@app.callback(\n",
    "    Output(\"live-graphs_host\", \"figure\"),\n",
    "     Input(component_id='hosts_dropdown', component_property='value'),\n",
    "     Input('graph-update', 'n_intervals'))\n",
    "def update_output(value, interval):\n",
    "        \n",
    "\n",
    "    log_ofo_time =0\n",
    "    init_datetime=int((time.time()-4)*1000)\n",
    "    end_datetime=int(time.time()*1000)\n",
    "    past_files=sorted( [ filename for filename in glob.glob(\"../output/*.txt\") if os.path.getmtime(filename)>=init_datetime/1000-log_ofo_time ] , key=os.path.getmtime)[::-1]\n",
    "    \n",
    "\n",
    "    \n",
    "    for filename in past_files:\n",
    "        set_connected_hosts(connected_to(filename,init_datetime,end_datetime,value))\n",
    "        set_received_hosts(received_from(filename,init_datetime,end_datetime,value))\n",
    "        set_active_hosts(generated_conn(filename, init_datetime, end_datetime))\n",
    "\n",
    "        \n",
    "    fig = make_subplots( rows=2, cols=2,\n",
    "    specs=[[{\"type\": \"domain\"}, {\"type\": \"domain\"}],\n",
    "           [{\"colspan\": 2}, None]],\n",
    "    subplot_titles=(\"Generated connections\",\"received connections\", \"total number of connections of all hosts\")\n",
    "                       )\n",
    "\n",
    "    fig.add_trace(go.Pie(labels=list(get_connected_hosts.keys()), values=list(get_connected_hosts.values()), textinfo='label+value', name='connected to', hole=.65),\n",
    "              row=1, col=1)\n",
    "    fig.add_trace(go.Pie(labels=list(get_received_hosts.keys()), values=list(get_received_hosts.values()), textinfo='label+value', name='received from',  hole=.65),\n",
    "              row=1, col=2)\n",
    "    fig.add_trace(go.Bar(x=list(get_active_hosts.keys()), y=list(get_active_hosts.values()), name=\"All connections\", marker=dict(color='orange', coloraxis=\"coloraxis\") ),\n",
    "              row=2, col=1)\n",
    "    \n",
    "    #fig.update_layout(\n",
    "    #title_text=\"Host that connected and received connection from the selected host\")\n",
    "\n",
    "\n",
    "    return fig\n",
    "    "
   ]
  },
  {
   "cell_type": "code",
   "execution_count": null,
   "metadata": {},
   "outputs": [],
   "source": [
    "\n",
    "\n"
   ]
  },
  {
   "cell_type": "code",
   "execution_count": null,
   "metadata": {},
   "outputs": [],
   "source": [
    "app.run_server(host='0.0.0.0', port=8080,debug=True, use_reloader=False)"
   ]
  },
  {
   "cell_type": "code",
   "execution_count": 6,
   "metadata": {},
   "outputs": [],
   "source": [
    "class Dashboard:\n",
    "    def __init__(self):\n",
    "        external_stylesheets = ['https://codepen.io/chriddyp/pen/bWLwgP.css']\n",
    "        \n",
    "\n",
    "        \n",
    "        \n",
    "        self.app = dash.Dash(__name__, external_stylesheets=external_stylesheets)\n",
    "        \n",
    "        app.callback(Output(\"live-graphs_host\", \"figure\"),\n",
    "                     Input(component_id='hosts_dropdown', component_property='value'),\n",
    "                      Input('graph-update', 'n_intervals')) (update_output)\n",
    "\n",
    "        colors = {\n",
    "            'background': '#111111',\n",
    "            'text': '#7FDBFF'\n",
    "                }\n",
    "\n",
    "\n",
    "        self.app.layout = html.Div(style={'backgroundColor': colors['background']}, \n",
    "            children=[\n",
    "                html.H1(\n",
    "                children='Network log analytics',\n",
    "                    style={\n",
    "                'textAlign': 'center',\n",
    "                'color': colors['text']\n",
    "                        }\n",
    "                    ),\n",
    "    \n",
    "\n",
    "            html.Div(\n",
    "            [\n",
    "                html.Div(\n",
    "                    [\n",
    "                    html.H2(\"\"\"Select a host:\"\"\",\n",
    "                            style={'margin-right': '1em', 'color': colors['text']})\n",
    "                    ],\n",
    "            ),\n",
    "\n",
    "            dcc.Dropdown(\n",
    "                id='hosts_dropdown',\n",
    "                options=[\n",
    "                    {'label': 'Hannibal', 'value': 'Hannibal'},\n",
    "                    {'label': 'Hanny', 'value': 'Hanny'},\n",
    "                    {'label': 'Steeve', 'value': 'Steeve'}\n",
    "                        ],\n",
    "                placeholder=\"Default value 'Hannibal'\",\n",
    "                value=\"Hannibal\",\n",
    "                style=dict(width='40%',display='inline-block')\n",
    "                    )\n",
    "            ],\n",
    "                style={'display': 'flex', 'align-items': 'center'}\n",
    "            ),\n",
    "\n",
    "            dcc.Graph(id='live-graphs_host'),\n",
    "            dcc.Interval(id='graph-update', interval=0.5*10000)\n",
    "            ])\n",
    "\n",
    "        \n",
    "    def set_connected_hosts(self,x):\n",
    "        self.connected_hosts+=x\n",
    "\n",
    "    def get_connected_hosts(self):\n",
    "        return self.connected_hosts\n",
    "\n",
    "    def set_received_hosts(self,x):\n",
    "        self.received_hosts+=x\n",
    "\n",
    "    def get_received_hosts(self):\n",
    "        return self.received_hosts\n",
    "\n",
    "    def set_active_hosts(self,x):\n",
    "        self.active_hosts+=x\n",
    "\n",
    "    def get_active_hosts(self):\n",
    "        return self.active_hosts\n",
    "    \n",
    "    def get_app(self):\n",
    "        return self.app\n",
    "\n",
    "\n"
   ]
  },
  {
   "cell_type": "code",
   "execution_count": 7,
   "metadata": {},
   "outputs": [
    {
     "ename": "NameError",
     "evalue": "name 'app' is not defined",
     "output_type": "error",
     "traceback": [
      "\u001b[0;31m---------------------------------------------------------------------------\u001b[0m",
      "\u001b[0;31mNameError\u001b[0m                                 Traceback (most recent call last)",
      "\u001b[0;32m<ipython-input-7-53e1871c4429>\u001b[0m in \u001b[0;36m<module>\u001b[0;34m\u001b[0m\n\u001b[0;32m----> 1\u001b[0;31m \u001b[0mdsh\u001b[0m \u001b[0;34m=\u001b[0m \u001b[0mDashboard\u001b[0m\u001b[0;34m(\u001b[0m\u001b[0;34m)\u001b[0m\u001b[0;34m\u001b[0m\u001b[0;34m\u001b[0m\u001b[0m\n\u001b[0m\u001b[1;32m      2\u001b[0m \u001b[0;34m\u001b[0m\u001b[0m\n\u001b[1;32m      3\u001b[0m \u001b[0mapp\u001b[0m\u001b[0;34m=\u001b[0m \u001b[0mdsh\u001b[0m\u001b[0;34m.\u001b[0m\u001b[0mget_app\u001b[0m\u001b[0;34m(\u001b[0m\u001b[0;34m)\u001b[0m\u001b[0;34m\u001b[0m\u001b[0;34m\u001b[0m\u001b[0m\n\u001b[1;32m      4\u001b[0m \u001b[0;34m\u001b[0m\u001b[0m\n\u001b[1;32m      5\u001b[0m @app.callback(\n",
      "\u001b[0;32m<ipython-input-6-4aa0c6976ee9>\u001b[0m in \u001b[0;36m__init__\u001b[0;34m(self)\u001b[0m\n\u001b[1;32m      8\u001b[0m         \u001b[0mself\u001b[0m\u001b[0;34m.\u001b[0m\u001b[0mapp\u001b[0m \u001b[0;34m=\u001b[0m \u001b[0mdash\u001b[0m\u001b[0;34m.\u001b[0m\u001b[0mDash\u001b[0m\u001b[0;34m(\u001b[0m\u001b[0m__name__\u001b[0m\u001b[0;34m,\u001b[0m \u001b[0mexternal_stylesheets\u001b[0m\u001b[0;34m=\u001b[0m\u001b[0mexternal_stylesheets\u001b[0m\u001b[0;34m)\u001b[0m\u001b[0;34m\u001b[0m\u001b[0;34m\u001b[0m\u001b[0m\n\u001b[1;32m      9\u001b[0m \u001b[0;34m\u001b[0m\u001b[0m\n\u001b[0;32m---> 10\u001b[0;31m         app.callback(Output(\"live-graphs_host\", \"figure\"),\n\u001b[0m\u001b[1;32m     11\u001b[0m                      \u001b[0mInput\u001b[0m\u001b[0;34m(\u001b[0m\u001b[0mcomponent_id\u001b[0m\u001b[0;34m=\u001b[0m\u001b[0;34m'hosts_dropdown'\u001b[0m\u001b[0;34m,\u001b[0m \u001b[0mcomponent_property\u001b[0m\u001b[0;34m=\u001b[0m\u001b[0;34m'value'\u001b[0m\u001b[0;34m)\u001b[0m\u001b[0;34m,\u001b[0m\u001b[0;34m\u001b[0m\u001b[0;34m\u001b[0m\u001b[0m\n\u001b[1;32m     12\u001b[0m                       Input('graph-update', 'n_intervals')) (update_output)\n",
      "\u001b[0;31mNameError\u001b[0m: name 'app' is not defined"
     ]
    }
   ],
   "source": [
    "\n",
    "dsh = Dashboard()\n",
    "\n",
    "app= dsh.get_app()\n",
    "\n",
    "@app.callback(\n",
    "    Output(\"live-graphs_host\", \"figure\"),\n",
    "     Input(component_id='hosts_dropdown', component_property='value'),\n",
    "     Input('graph-update', 'n_intervals'))\n",
    "def update_output(value, interval):\n",
    "        \n",
    "    log_ofo_time =0\n",
    "    init_datetime=int((time.time()-4)*1000)\n",
    "    end_datetime=int(time.time()*1000)\n",
    "    past_files=sorted( [ filename for filename in glob.glob(\"../output/*.txt\") if os.path.getmtime(filename)>=init_datetime/1000-log_ofo_time ] , key=os.path.getmtime)[::-1]\n",
    "    \n",
    "\n",
    "    \n",
    "    for filename in past_files:\n",
    "        set_connected_hosts(dsh,connected_to(filename,init_datetime,end_datetime,value))\n",
    "        set_received_hosts(dsh,received_from(filename,init_datetime,end_datetime,value))\n",
    "        set_active_hosts(dsh,generated_conn(filename, init_datetime, end_datetime))\n",
    "\n",
    "        \n",
    "    fig = make_subplots( rows=2, cols=2,\n",
    "    specs=[[{\"type\": \"domain\"}, {\"type\": \"domain\"}],\n",
    "           [{\"colspan\": 2}, None]],\n",
    "    subplot_titles=(\"Generated connections\",\"received connections\", \"total number of connections of all hosts\")\n",
    "                       )\n",
    "\n",
    "    fig.add_trace(go.Pie(labels=list(dsh.get_connected_hosts().keys()), values=list(dsh.get_connected_hosts().values()), textinfo='label+value', name='connected to', hole=.65),\n",
    "              row=1, col=1)\n",
    "    fig.add_trace(go.Pie(labels=list(dsh.get_received_hosts().keys()), values=list(dsh.get_received_hosts().values()), textinfo='label+value', name='received from',  hole=.65),\n",
    "              row=1, col=2)\n",
    "    fig.add_trace(go.Bar(x=list(dsh.get_active_hosts().keys()), y=list(dsh.get_active_hosts().values()), name=\"All connections\", marker=dict(color='orange', coloraxis=\"coloraxis\") ),\n",
    "              row=2, col=1)\n",
    "    \n",
    "    #fig.update_layout(\n",
    "    #title_text=\"Host that connected and received connection from the selected host\")\n",
    "\n",
    "\n",
    "    return fig"
   ]
  },
  {
   "cell_type": "code",
   "execution_count": 20,
   "metadata": {},
   "outputs": [
    {
     "ename": "NameError",
     "evalue": "name 'app' is not defined",
     "output_type": "error",
     "traceback": [
      "\u001b[0;31m---------------------------------------------------------------------------\u001b[0m",
      "\u001b[0;31mNameError\u001b[0m                                 Traceback (most recent call last)",
      "\u001b[0;32m<ipython-input-20-49fb62d1fa77>\u001b[0m in \u001b[0;36m<module>\u001b[0;34m\u001b[0m\n\u001b[0;32m----> 1\u001b[0;31m \u001b[0mapp\u001b[0m\u001b[0;34m.\u001b[0m\u001b[0mrun_server\u001b[0m\u001b[0;34m(\u001b[0m\u001b[0mhost\u001b[0m\u001b[0;34m=\u001b[0m\u001b[0;34m'0.0.0.0'\u001b[0m\u001b[0;34m,\u001b[0m \u001b[0mport\u001b[0m\u001b[0;34m=\u001b[0m\u001b[0;36m8080\u001b[0m\u001b[0;34m,\u001b[0m\u001b[0mdebug\u001b[0m\u001b[0;34m=\u001b[0m\u001b[0;32mTrue\u001b[0m\u001b[0;34m,\u001b[0m \u001b[0muse_reloader\u001b[0m\u001b[0;34m=\u001b[0m\u001b[0;32mFalse\u001b[0m\u001b[0;34m)\u001b[0m\u001b[0;34m\u001b[0m\u001b[0;34m\u001b[0m\u001b[0m\n\u001b[0m",
      "\u001b[0;31mNameError\u001b[0m: name 'app' is not defined"
     ]
    }
   ],
   "source": [
    "app.run_server(host='0.0.0.0', port=8080,debug=True, use_reloader=False)"
   ]
  },
  {
   "cell_type": "code",
   "execution_count": null,
   "metadata": {},
   "outputs": [],
   "source": []
  },
  {
   "cell_type": "code",
   "execution_count": null,
   "metadata": {},
   "outputs": [],
   "source": []
  },
  {
   "cell_type": "code",
   "execution_count": null,
   "metadata": {},
   "outputs": [],
   "source": []
  },
  {
   "cell_type": "code",
   "execution_count": null,
   "metadata": {},
   "outputs": [],
   "source": [
    "import plotly.graph_objects as go\n",
    "from plotly.subplots import make_subplots"
   ]
  },
  {
   "cell_type": "code",
   "execution_count": null,
   "metadata": {},
   "outputs": [],
   "source": [
    "\n",
    "\n",
    "app.layout = html.Div(\n",
    "    [\n",
    "        html.Label(['File processign App']),\n",
    "        dcc.Dropdown(\n",
    "            id='hosts_dropdown',\n",
    "            options=[\n",
    "            {'label': 'Hannibal', 'value': 'Hannibal'},\n",
    "            {'label': 'Hanny', 'value': 'Hanny'},\n",
    "            {'label': 'Steeve', 'value': 'Steeve'}\n",
    "            ],\n",
    "        value=\"Hannibal\",\n",
    "        ),\n",
    "        dcc.Graph(id='live-graphs_host'),\n",
    "        dcc.Interval(id='graph-update', interval=0.5*10000)\n",
    "\n",
    "\n",
    "    ]\n",
    ")"
   ]
  },
  {
   "cell_type": "code",
   "execution_count": null,
   "metadata": {},
   "outputs": [],
   "source": [
    "'''\n",
    "\n",
    "#when ‘n_intervals’ of the ‘graph-update’ changes, I will use the update_graph_scatter(input_data) function, to update the ‘figure’ of the ‘live_graph’.\n",
    "\n",
    "@app.callback(Output('live-graph', 'figure'),\n",
    "              [Input('graph-update', 'n_intervals')])\n",
    "def update_graph_scatter(input_data):\n",
    "    \n",
    "    global hostnames\n",
    "    log_ofo_time =0\n",
    "    init_datetime=int((time.time()-4)*1000)\n",
    "    end_datetime=int(time.time()*1000)\n",
    "    past_files=sorted( [ filename for filename in glob.glob(\"../output/*.txt\") if os.path.getmtime(filename)>=init_datetime/1000-log_ofo_time ] , key=os.path.getmtime)[::-1]\n",
    "    \n",
    "\n",
    "\n",
    "    \n",
    "    for filename in past_files:\n",
    "        hostnames=np.concatenate((hostnames,np.array(generated_conn_dash(filename, init_datetime, end_datetime))))\n",
    "        #connected_hostss+=connected_to(filename,init_datetime,end_datetime,'Hannibal')\n",
    "    \n",
    "    \n",
    "    unique, val=np.unique(hostnames, return_counts=True)\n",
    "    figure = px.histogram(hostnames, range_y=[0, max(val)+10])\n",
    "    return figure\n",
    "\n",
    "'''"
   ]
  },
  {
   "cell_type": "code",
   "execution_count": null,
   "metadata": {},
   "outputs": [],
   "source": [
    "\n",
    "hosnamesss= Counter() \n",
    "init_datetime=int((time.time()-1000)*1000)\n",
    "end_datetime=int(time.time()*1000)\n",
    "past_files=sorted( [ filename for filename in glob.glob(\"../output/*.txt\") if os.path.getmtime(filename)>=init_datetime/1000 ] , key=os.path.getmtime)[::-1]\n",
    "    \n",
    "\n",
    "\n",
    "    \n",
    "for filename in past_files:\n",
    "    #s=np.array(generated_conn_dash(filename, init_datetime, end_datetime))\n",
    "    hosnamesss+=generated_conn(filename, init_datetime, end_datetime)\n",
    "        #connected_hostss+=connected_to(filename,init_datetime,end_datetime,'Hannibal')"
   ]
  },
  {
   "cell_type": "code",
   "execution_count": null,
   "metadata": {},
   "outputs": [],
   "source": [
    "hosnamesss"
   ]
  },
  {
   "cell_type": "code",
   "execution_count": null,
   "metadata": {},
   "outputs": [],
   "source": [
    "\n",
    "list(hosnamesss.values())"
   ]
  },
  {
   "cell_type": "code",
   "execution_count": null,
   "metadata": {},
   "outputs": [],
   "source": [
    "\n",
    "go.B\n"
   ]
  },
  {
   "cell_type": "code",
   "execution_count": null,
   "metadata": {},
   "outputs": [],
   "source": [
    "\n",
    "random_x"
   ]
  },
  {
   "cell_type": "code",
   "execution_count": null,
   "metadata": {},
   "outputs": [],
   "source": [
    "connectedhosts=Counter()\n",
    "log_ofo_time =0\n",
    "init_datetime=int((time.time()-500)*1000)\n",
    "end_datetime=int(time.time()*1000)\n",
    "past_files=sorted( [ filename for filename in glob.glob(\"../output/*.txt\") if os.path.getmtime(filename)>=init_datetime/1000-log_ofo_time ] , key=os.path.getmtime)[::-1]\n",
    "    \n",
    "for filename in past_files:\n",
    "    #hostnames=np.concatenate((hostnames,np.array(generated_conn_dash(filename, init_datetime, end_datetime))))\n",
    "    #connected_hostss+=connected_to(filename,init_datetime,end_datetime,'Hannibal')\n",
    "    connectedhosts+=connected_to(filename,init_datetime,end_datetime,'Hannibal')\n",
    "    "
   ]
  },
  {
   "cell_type": "code",
   "execution_count": null,
   "metadata": {},
   "outputs": [],
   "source": [
    "dict(connectedhosts).items()"
   ]
  },
  {
   "cell_type": "code",
   "execution_count": null,
   "metadata": {},
   "outputs": [],
   "source": [
    "\n",
    "s=pd.DataFrame(dict(connectedhosts).items(), columns=['Name', 'Value'])"
   ]
  },
  {
   "cell_type": "code",
   "execution_count": null,
   "metadata": {},
   "outputs": [],
   "source": [
    "s"
   ]
  },
  {
   "cell_type": "code",
   "execution_count": null,
   "metadata": {},
   "outputs": [],
   "source": []
  },
  {
   "cell_type": "code",
   "execution_count": null,
   "metadata": {},
   "outputs": [],
   "source": [
    "s.pivot_table(s, values='Value', columns = 'Name')"
   ]
  },
  {
   "cell_type": "code",
   "execution_count": null,
   "metadata": {},
   "outputs": [],
   "source": [
    "px.pie(data_frame=s,values='Value',names='Name')"
   ]
  },
  {
   "cell_type": "code",
   "execution_count": null,
   "metadata": {},
   "outputs": [],
   "source": []
  },
  {
   "cell_type": "code",
   "execution_count": null,
   "metadata": {},
   "outputs": [],
   "source": [
    "connectedhosts+=Counter({'Hanny': 12, 'Steeve': 3, 'Hannibal': 4})"
   ]
  },
  {
   "cell_type": "code",
   "execution_count": null,
   "metadata": {},
   "outputs": [],
   "source": [
    "np.array(list(connectedhosts.values()))"
   ]
  },
  {
   "cell_type": "code",
   "execution_count": null,
   "metadata": {},
   "outputs": [],
   "source": [
    "px.pie(list(connectedhosts.values()),labels=list(connectedhosts.keys()))"
   ]
  },
  {
   "cell_type": "code",
   "execution_count": null,
   "metadata": {},
   "outputs": [],
   "source": [
    "px.histogram(x=list(connected_hosts.keys()),y=list(connected_hosts.values()), range_y=[0, max(connected_hosts.values())+40])"
   ]
  },
  {
   "cell_type": "code",
   "execution_count": null,
   "metadata": {},
   "outputs": [],
   "source": [
    "len(np.unique(hosnamess))"
   ]
  },
  {
   "cell_type": "code",
   "execution_count": null,
   "metadata": {},
   "outputs": [],
   "source": [
    "input1='anass'"
   ]
  },
  {
   "cell_type": "code",
   "execution_count": null,
   "metadata": {},
   "outputs": [],
   "source": [
    "print(u'Input 1 {}'.format(input1))"
   ]
  },
  {
   "cell_type": "code",
   "execution_count": null,
   "metadata": {},
   "outputs": [],
   "source": [
    "unique, val=np.unique(hosnamess, return_counts=True)"
   ]
  },
  {
   "cell_type": "code",
   "execution_count": null,
   "metadata": {},
   "outputs": [],
   "source": [
    "val"
   ]
  },
  {
   "cell_type": "code",
   "execution_count": null,
   "metadata": {},
   "outputs": [],
   "source": [
    "hosnamess"
   ]
  },
  {
   "cell_type": "code",
   "execution_count": null,
   "metadata": {},
   "outputs": [],
   "source": [
    "np.histogram(list(hosnamess),bins=range(0, 60, 5))"
   ]
  },
  {
   "cell_type": "code",
   "execution_count": null,
   "metadata": {},
   "outputs": [],
   "source": [
    "for line in reversed(list(open('../output/log_1.txt'))):\n",
    "        #print(''.join(['parsed line: ',line]))\n",
    "        #if (int(line.split()[0]) >= int(1607948683153) and  int(line.split()[0])<= int(1607948883412) ):\n",
    "            #print(''.join(['----> considered line: ',line]))\n",
    "    #hostnames.append(line.split()[1])\n",
    "    print(line)"
   ]
  },
  {
   "cell_type": "code",
   "execution_count": null,
   "metadata": {},
   "outputs": [],
   "source": [
    "    X.append(X[-1]+1)\n",
    "    Y.append(Y[-1]+Y[-1]*random.uniform(-0.1,0.1))\n",
    "\n",
    "    data = plotly.graph_objs.Scatter(\n",
    "            x=list(X),\n",
    "            y=list(Y),\n",
    "            name='Scatter',\n",
    "            mode= 'lines+markers'\n",
    "            )\n",
    "\n",
    "    return {'data': [data],'layout' : go.Layout(xaxis=dict(range=[min(X),max(X)]),\n",
    "                                                yaxis=dict(range=[min(Y),max(Y)]),)}"
   ]
  },
  {
   "cell_type": "code",
   "execution_count": null,
   "metadata": {},
   "outputs": [],
   "source": [
    "import numpy as np\n",
    "\n",
    "data = np.random.normal(3, 2, size=500)\n"
   ]
  },
  {
   "cell_type": "code",
   "execution_count": null,
   "metadata": {},
   "outputs": [],
   "source": [
    "hosts=['Hannibal', 'Hanny', 'Steeve']\n",
    "\n",
    "x,y=random.sample(hosts, 2)"
   ]
  },
  {
   "cell_type": "code",
   "execution_count": null,
   "metadata": {},
   "outputs": [],
   "source": [
    "y\n"
   ]
  },
  {
   "cell_type": "code",
   "execution_count": null,
   "metadata": {},
   "outputs": [],
   "source": [
    "    '''\n",
    "    return {\n",
    "        'data': [go.Pie(labels=list(connected_hosts.keys()),\n",
    "                        values=list(connected_hosts.values()),\n",
    "                        #marker=dict(colors=colors),\n",
    "                        textinfo='label+value',\n",
    "  \n",
    "                        hole=.7,\n",
    "                        \n",
    "\n",
    "\n",
    "                        )],}\n",
    "\n",
    "\n",
    "        '''\n",
    "\n",
    "\n",
    "                        "
   ]
  },
  {
   "cell_type": "code",
   "execution_count": null,
   "metadata": {},
   "outputs": [],
   "source": []
  }
 ],
 "metadata": {
  "kernelspec": {
   "display_name": "Python 3",
   "language": "python",
   "name": "python3"
  },
  "language_info": {
   "codemirror_mode": {
    "name": "ipython",
    "version": 3
   },
   "file_extension": ".py",
   "mimetype": "text/x-python",
   "name": "python",
   "nbconvert_exporter": "python",
   "pygments_lexer": "ipython3",
   "version": "3.8.3"
  }
 },
 "nbformat": 4,
 "nbformat_minor": 4
}
